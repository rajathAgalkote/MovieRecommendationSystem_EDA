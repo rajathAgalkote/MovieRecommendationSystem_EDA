{
  "nbformat": 4,
  "nbformat_minor": 0,
  "metadata": {
    "colab": {
      "provenance": [],
      "authorship_tag": "ABX9TyPhMl3H1VxmgMcHVh661bCF",
      "include_colab_link": true
    },
    "kernelspec": {
      "name": "python3",
      "display_name": "Python 3"
    },
    "language_info": {
      "name": "python"
    }
  },
  "cells": [
    {
      "cell_type": "markdown",
      "metadata": {
        "id": "view-in-github",
        "colab_type": "text"
      },
      "source": [
        "<a href=\"https://colab.research.google.com/github/rajathAgalkote/MovieRecommendationSystem_EDA/blob/main/Rajathadri_MovieRecommendationSystem.ipynb\" target=\"_parent\"><img src=\"https://colab.research.google.com/assets/colab-badge.svg\" alt=\"Open In Colab\"/></a>"
      ]
    },
    {
      "cell_type": "markdown",
      "source": [
        "# **Movie Recommendation System**"
      ],
      "metadata": {
        "id": "vaG3TFtQE6Nj"
      }
    },
    {
      "cell_type": "markdown",
      "source": [
        "## **Project Type** : \n",
        "## **Contribution** : Rajathadri A S\n",
        "<br>\n",
        "\n",
        "## **Datasets Used** : \n",
        "## 1. kaggle datasets download -d tmdb/tmdb-movie-metadata\n",
        "## 2. kaggle datasets download -d rounakbanik/the-movies-dataset"
      ],
      "metadata": {
        "id": "JBSetqeUE_2W"
      }
    },
    {
      "cell_type": "code",
      "source": [],
      "metadata": {
        "id": "Y0RV-Qw0E4X8"
      },
      "execution_count": null,
      "outputs": []
    },
    {
      "cell_type": "code",
      "execution_count": null,
      "metadata": {
        "id": "qyBaT71xExBB"
      },
      "outputs": [],
      "source": []
    }
  ]
}